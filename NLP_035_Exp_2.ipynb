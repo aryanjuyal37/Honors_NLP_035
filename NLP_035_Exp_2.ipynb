{
  "nbformat": 4,
  "nbformat_minor": 0,
  "metadata": {
    "colab": {
      "provenance": []
    },
    "kernelspec": {
      "name": "python3",
      "display_name": "Python 3"
    },
    "language_info": {
      "name": "python"
    }
  },
  "cells": [
    {
      "cell_type": "code",
      "execution_count": 1,
      "metadata": {
        "id": "NMd7NIhCj9ud"
      },
      "outputs": [],
      "source": [
        "import nltk\n",
        "import re\n",
        "from nltk.corpus import stopwords\n",
        "from nltk.tokenize import word_tokenize\n",
        "from bs4 import BeautifulSoup"
      ]
    },
    {
      "cell_type": "code",
      "source": [
        "nltk.download('punkt')\n",
        "nltk.download('stopwords')"
      ],
      "metadata": {
        "colab": {
          "base_uri": "https://localhost:8080/"
        },
        "id": "N0qUZbuomSEM",
        "outputId": "1c40b07b-62e6-45a0-b743-1ac4bbf538f1"
      },
      "execution_count": 2,
      "outputs": [
        {
          "output_type": "stream",
          "name": "stderr",
          "text": [
            "[nltk_data] Downloading package punkt to /root/nltk_data...\n",
            "[nltk_data]   Unzipping tokenizers/punkt.zip.\n",
            "[nltk_data] Downloading package stopwords to /root/nltk_data...\n",
            "[nltk_data]   Unzipping corpora/stopwords.zip.\n"
          ]
        },
        {
          "output_type": "execute_result",
          "data": {
            "text/plain": [
              "True"
            ]
          },
          "metadata": {},
          "execution_count": 2
        }
      ]
    },
    {
      "cell_type": "code",
      "source": [
        "custom_stop_words = ['down','hello','hi','hidden','seemed','of','ok','okay']"
      ],
      "metadata": {
        "id": "OIiHqKnSmXJs"
      },
      "execution_count": 3,
      "outputs": []
    },
    {
      "cell_type": "code",
      "source": [
        "english_stop_words = set(stopwords.words(\"english\"))"
      ],
      "metadata": {
        "id": "ppn-pXmhoR5q"
      },
      "execution_count": 4,
      "outputs": []
    },
    {
      "cell_type": "code",
      "source": [
        "english_stop_words.update(custom_stop_words)"
      ],
      "metadata": {
        "id": "7xbbWE3WoTMS"
      },
      "execution_count": 5,
      "outputs": []
    },
    {
      "cell_type": "markdown",
      "source": [
        "## Function to remove stop words"
      ],
      "metadata": {
        "id": "qGhSFAfzrKOK"
      }
    },
    {
      "cell_type": "code",
      "source": [
        "def preprocess_text(text):\n",
        "    # html tags\n",
        "    text = BeautifulSoup(text, \"html.parser\").get_text()\n",
        "\n",
        "    # urls\n",
        "    text = re.sub(r'http\\S+', '', text)\n",
        "\n",
        "    # punctuations\n",
        "    text = re.sub(r'[^\\w\\s]', '', text).lower()\n",
        "\n",
        "    # word tokenize\n",
        "    tokens = word_tokenize(text)\n",
        "\n",
        "    # Remove stopwords\n",
        "    filtered_tokens = [word for word in tokens if word not in english_stop_words]\n",
        "\n",
        "    # Join the tokens into a cleaned text\n",
        "    cleaned_text = \" \".join(filtered_tokens)\n",
        "\n",
        "    return cleaned_text"
      ],
      "metadata": {
        "id": "5lCk36Cuomvy"
      },
      "execution_count": 6,
      "outputs": []
    },
    {
      "cell_type": "code",
      "source": [
        "dataset = [\n",
        "    \"This is an example post about programming.\",\n",
        "    \"I have a problem with my code. It's not working as expected.\",\n",
        "    \"Check out this link: http://example.com for more information.\",\n",
        "    \"<p>This is a paragraph.</p>\"\n",
        "    \"I'm facing an issue with my code. It's not working.\",\n",
        "    \"Can someone help me understand this error message?\",\n",
        "    \"I need assistance with my Python program.\",\n",
        "    \"I'm trying to implement a function, but it's not behaving as expected.\",\n",
        "    \"Check out this link for a detailed explanation: http://example.com\",\n",
        "    \"Is there a library that can help me with data visualization?\",\n",
        "    \"My program throws a syntax error. How can I fix it?\",\n",
        "    \"I'm working on a web development project and need advice on handling forms.\",\n",
        "    \"Does anyone know a good resource for learning JavaScript?\",\n",
        "    \"I'm getting a '404 Not Found' error when accessing my API.\"\n",
        "]"
      ],
      "metadata": {
        "id": "0-QFAsmAs2T6"
      },
      "execution_count": null,
      "outputs": []
    },
    {
      "cell_type": "code",
      "source": [
        "dataset = [\n",
        "    \"In the heart of a bustling city, where the rhythm of life never seemed to slow down, there existed a hidden <a href='http://www.tranquilpark.com'>oasis</a> of tranquility!\",\n",
        "    \"This haven was a small, enchanting <span style='color: green;'>park</span> adorned with vibrant flowers and ancient trees that whispered <a href='http://www.storiestales.com'>\",\n",
        "    \"stories</a> of times long past. Its pathways, meandering like the threads of <b>fate</b>, led visitors through a <a href='http://www.colorfulscents.net'>tapestry</a> of colors\",\n",
        "    \"and scents that shifted with the seasons. Beneath the gentle shade of a <i>willow tree</i>, a weathered wooden <a href='http://www.restfulbench.org'>bench</a> invited weary souls\",\n",
        "    \"to rest and contemplate. <div class='bird-symphony'>Birds</div> orchestrated symphonies, and the distant hum of traffic became a soothing backdrop. It was a place where people\",\n",
        "    \"from all walks of life converged, momentarily escaping their worries. Children's laughter echoed as they chased <a href='http://www.flutteringbutterflies.org'>butterflies</a>;\",\n",
        "    \"their imaginations painting the air with vibrant strokes. Elderly couples walked hand in hand, their steps mirroring a lifetime of shared <span class='sweet-memories'>memories</span>\",\n",
        "    \"Artists found inspiration in every petal and leaf, their canvases giving life to <a href='http://www.naturespalette.com'>nature's palette</a>. As the sun dipped below the horizon,\",\n",
        "    \"the park transformed. Soft <a href='http://www.goldenhues.com'>golden hues</a> gave way to the embrace of <i>twilight</i>. Fireflies emerged, creating a living <span class='constellation'>constellation</span>\",\n",
        "    \"that danced to its own celestial rhythm. The world seemed to exhale, releasing the tension of the day and inviting <a href='http://www.starrysecrets.net'>the stars</a> to share\",\n",
        "    \"their secrets. In a fast-paced <b>era</b>, this <span class='sanctuary'>park</span> remained a <a href='http://www.testamentofbeauty.org'>sanctuary</a>, a testament to the enduring\",\n",
        "    \"beauty of the natural world and the human spirit's yearning for <i>connection</i>. Here, amidst the ebb and flow of <a href='http://www.livelife.com'>life</a>, people found solace—each\",\n",
        "    \"footstep a silent vow to cherish the moments of serenity. And so, the hidden <a href='http://www.magicalplace.net'>oasis</a>\" ,\n",
        "    \"continued to weave its <span class='magic'>spell</span>, reminding all who entered that <a href='http://www.magicexists.org'>magic</a> existed in the simplest of places.\"\"\"\n",
        "]"
      ],
      "metadata": {
        "id": "yeijjtwn7Awh"
      },
      "execution_count": 13,
      "outputs": []
    },
    {
      "cell_type": "markdown",
      "source": [
        "## Preprocessing Text in Datset"
      ],
      "metadata": {
        "id": "Ugs0y-Mfnm1C"
      }
    },
    {
      "cell_type": "code",
      "source": [
        "# Apply preprocessing to each text in the dataset\n",
        "preprocessed_dataset = [preprocess_text(text) for text in dataset]\n",
        "\n",
        "for idx, text in enumerate(preprocessed_dataset, start=1):\n",
        "    print(f\"Post {idx}: {text}\")"
      ],
      "metadata": {
        "colab": {
          "base_uri": "https://localhost:8080/"
        },
        "id": "qLW7ZLxHnU5y",
        "outputId": "34b3b20a-7be3-4bcb-9dd2-2236934d756b"
      },
      "execution_count": 14,
      "outputs": [
        {
          "output_type": "stream",
          "name": "stdout",
          "text": [
            "Post 1: heart bustling city rhythm life never slow existed oasis tranquility\n",
            "Post 2: small enchanting park adorned vibrant flowers ancient trees whispered\n",
            "Post 3: stories times long past pathways meandering like threads fate led visitors tapestry colors\n",
            "Post 4: scents shifted seasons beneath gentle shade willow tree weathered wooden bench invited weary souls\n",
            "Post 5: rest contemplate birds orchestrated symphonies distant hum traffic became soothing backdrop place people\n",
            "Post 6: walks life converged momentarily escaping worries childrens laughter echoed chased butterflies\n",
            "Post 7: imaginations painting air vibrant strokes elderly couples walked hand hand steps mirroring lifetime shared memories\n",
            "Post 8: artists found inspiration every petal leaf canvases giving life natures palette sun dipped horizon\n",
            "Post 9: park transformed soft golden hues gave way embrace twilight fireflies emerged creating living constellation\n",
            "Post 10: danced celestial rhythm world exhale releasing tension day inviting stars share\n",
            "Post 11: secrets fastpaced era park remained sanctuary testament enduring\n",
            "Post 12: beauty natural world human spirits yearning connection amidst ebb flow life people found solaceeach\n",
            "Post 13: footstep silent vow cherish moments serenity oasis\n",
            "Post 14: continued weave spell reminding entered magic existed simplest places\n"
          ]
        }
      ]
    }
  ]
}