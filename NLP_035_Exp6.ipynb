{
  "nbformat": 4,
  "nbformat_minor": 0,
  "metadata": {
    "colab": {
      "provenance": []
    },
    "kernelspec": {
      "name": "python3",
      "display_name": "Python 3"
    },
    "language_info": {
      "name": "python"
    }
  },
  "cells": [
    {
      "cell_type": "code",
      "execution_count": 1,
      "metadata": {
        "id": "NpFezC_4K0Kx"
      },
      "outputs": [],
      "source": [
        "from nltk import WordNetLemmatizer"
      ]
    },
    {
      "cell_type": "code",
      "source": [
        "import nltk\n",
        "nltk.download('wordnet')"
      ],
      "metadata": {
        "colab": {
          "base_uri": "https://localhost:8080/"
        },
        "id": "XuTKcQRtK7Sc",
        "outputId": "0ea56250-ac5e-419e-c105-30ccae287be9"
      },
      "execution_count": 2,
      "outputs": [
        {
          "output_type": "stream",
          "name": "stderr",
          "text": [
            "[nltk_data] Downloading package wordnet to /root/nltk_data...\n"
          ]
        },
        {
          "output_type": "execute_result",
          "data": {
            "text/plain": [
              "True"
            ]
          },
          "metadata": {},
          "execution_count": 2
        }
      ]
    },
    {
      "cell_type": "code",
      "source": [
        "from nltk.stem import WordNetLemmatizer\n",
        "lemmatizer = WordNetLemmatizer()\n",
        "lemmatizer.lemmatize('cooking')\n",
        "lemmatizer.lemmatize('cooking', pos='v')\n",
        "lemmatizer.lemmatize('cookbooks', pos='n')"
      ],
      "metadata": {
        "colab": {
          "base_uri": "https://localhost:8080/",
          "height": 36
        },
        "id": "vgO4LrAKLJFO",
        "outputId": "9e688b49-3c4d-47ff-dd1f-39d8ffcc872c"
      },
      "execution_count": 3,
      "outputs": [
        {
          "output_type": "execute_result",
          "data": {
            "text/plain": [
              "'cookbook'"
            ],
            "application/vnd.google.colaboratory.intrinsic+json": {
              "type": "string"
            }
          },
          "metadata": {},
          "execution_count": 3
        }
      ]
    },
    {
      "cell_type": "code",
      "source": [
        "nltk.download('averaged_perceptron_tagger')"
      ],
      "metadata": {
        "colab": {
          "base_uri": "https://localhost:8080/"
        },
        "id": "KXACky2-LWjP",
        "outputId": "1c94422a-d82b-4ab4-ea9f-cf84e1c3b81c"
      },
      "execution_count": 4,
      "outputs": [
        {
          "output_type": "stream",
          "name": "stderr",
          "text": [
            "[nltk_data] Downloading package averaged_perceptron_tagger to\n",
            "[nltk_data]     /root/nltk_data...\n",
            "[nltk_data]   Unzipping taggers/averaged_perceptron_tagger.zip.\n"
          ]
        },
        {
          "output_type": "execute_result",
          "data": {
            "text/plain": [
              "True"
            ]
          },
          "metadata": {},
          "execution_count": 4
        }
      ]
    },
    {
      "cell_type": "code",
      "source": [
        "from nltk.stem import WordNetLemmatizer\n",
        "from nltk.corpus import wordnet\n",
        "\n",
        "# Function to convert POS tags from Penn Treebank to WordNet POS tags\n",
        "def get_wordnet_pos(treebank_tag):\n",
        "    if treebank_tag.startswith('J'):\n",
        "        return wordnet.ADJ\n",
        "    elif treebank_tag.startswith('V'):\n",
        "        return wordnet.VERB\n",
        "    elif treebank_tag.startswith('N'):\n",
        "        return wordnet.NOUN\n",
        "    elif treebank_tag.startswith('R'):\n",
        "        return wordnet.ADV\n",
        "    else:\n",
        "        return wordnet.NOUN\n",
        "\n",
        "# Initialize the WordNet Lemmatizer\n",
        "lemmatizer = WordNetLemmatizer()\n",
        "\n",
        "# List of sentences to lemmatize\n",
        "sentences = [\n",
        "    \"The sun sets behind the mountains.\",\n",
        "    \"She dances gracefully on the stage.\",\n",
        "    \"He plays the piano with great skill.\",\n",
        "    \"They explore the ancient forest.\",\n",
        "    \"The chef is preparing a gourmet meal.\",\n",
        "    \"She prepared breakfast for her family.\",\n",
        "    \"I enjoy baking delicious desserts.\",\n",
        "    \"He loves cooking for his friends.\",\n",
        "    \"They are creating a masterpiece together.\",\n",
        "    \"The garden is filled with blooming flowers.\",\n",
        "    \"She will cook dinner for the party.\",\n",
        "    \"He cooked a fantastic meal last weekend.\",\n",
        "    \"They find joy in painting together.\",\n",
        "    \"I'm not very skilled at fishing.\",\n",
        "    \"She cooked a variety of international dishes.\",\n",
        "    \"He will be cooking for the celebration.\",\n",
        "    \"They have a passion for cooking exotic cuisines.\",\n",
        "    \"The bakery specializes in making artisanal bread.\",\n",
        "    \"She enjoys cooking for special occasions.\",\n",
        "    \"I'm learning to play the guitar.\"\n",
        "]\n",
        "\n",
        "# Lemmatize the sentences\n",
        "for sentence in sentences:\n",
        "    words = sentence.split()\n",
        "    pos_tags = nltk.pos_tag(words)\n",
        "    lemmatized_words = [lemmatizer.lemmatize(word, pos=get_wordnet_pos(tag)) for word, tag in pos_tags]\n",
        "    lemmatized_sentence = ' '.join(lemmatized_words)\n",
        "    print(f\"Original: \\\"{sentence}\\\"\\nLemmatized: \\\"{lemmatized_sentence}\\\"\\n\")\n"
      ],
      "metadata": {
        "colab": {
          "base_uri": "https://localhost:8080/"
        },
        "id": "6xy1peXLLbPL",
        "outputId": "a3eabc56-ecd3-4c3f-f596-76329f735bca"
      },
      "execution_count": 6,
      "outputs": [
        {
          "output_type": "stream",
          "name": "stdout",
          "text": [
            "Original: \"The sun sets behind the mountains.\"\n",
            "Lemmatized: \"The sun set behind the mountains.\"\n",
            "\n",
            "Original: \"She dances gracefully on the stage.\"\n",
            "Lemmatized: \"She dance gracefully on the stage.\"\n",
            "\n",
            "Original: \"He plays the piano with great skill.\"\n",
            "Lemmatized: \"He play the piano with great skill.\"\n",
            "\n",
            "Original: \"They explore the ancient forest.\"\n",
            "Lemmatized: \"They explore the ancient forest.\"\n",
            "\n",
            "Original: \"The chef is preparing a gourmet meal.\"\n",
            "Lemmatized: \"The chef be prepare a gourmet meal.\"\n",
            "\n",
            "Original: \"She prepared breakfast for her family.\"\n",
            "Lemmatized: \"She prepare breakfast for her family.\"\n",
            "\n",
            "Original: \"I enjoy baking delicious desserts.\"\n",
            "Lemmatized: \"I enjoy bake delicious desserts.\"\n",
            "\n",
            "Original: \"He loves cooking for his friends.\"\n",
            "Lemmatized: \"He love cook for his friends.\"\n",
            "\n",
            "Original: \"They are creating a masterpiece together.\"\n",
            "Lemmatized: \"They be create a masterpiece together.\"\n",
            "\n",
            "Original: \"The garden is filled with blooming flowers.\"\n",
            "Lemmatized: \"The garden be fill with blooming flowers.\"\n",
            "\n",
            "Original: \"She will cook dinner for the party.\"\n",
            "Lemmatized: \"She will cook dinner for the party.\"\n",
            "\n",
            "Original: \"He cooked a fantastic meal last weekend.\"\n",
            "Lemmatized: \"He cook a fantastic meal last weekend.\"\n",
            "\n",
            "Original: \"They find joy in painting together.\"\n",
            "Lemmatized: \"They find joy in paint together.\"\n",
            "\n",
            "Original: \"I'm not very skilled at fishing.\"\n",
            "Lemmatized: \"I'm not very skilled at fishing.\"\n",
            "\n",
            "Original: \"She cooked a variety of international dishes.\"\n",
            "Lemmatized: \"She cook a variety of international dishes.\"\n",
            "\n",
            "Original: \"He will be cooking for the celebration.\"\n",
            "Lemmatized: \"He will be cook for the celebration.\"\n",
            "\n",
            "Original: \"They have a passion for cooking exotic cuisines.\"\n",
            "Lemmatized: \"They have a passion for cook exotic cuisines.\"\n",
            "\n",
            "Original: \"The bakery specializes in making artisanal bread.\"\n",
            "Lemmatized: \"The bakery specialize in make artisanal bread.\"\n",
            "\n",
            "Original: \"She enjoys cooking for special occasions.\"\n",
            "Lemmatized: \"She enjoy cook for special occasions.\"\n",
            "\n",
            "Original: \"I'm learning to play the guitar.\"\n",
            "Lemmatized: \"I'm learning to play the guitar.\"\n",
            "\n"
          ]
        }
      ]
    },
    {
      "cell_type": "code",
      "source": [],
      "metadata": {
        "id": "youRptOVLqO6"
      },
      "execution_count": null,
      "outputs": []
    }
  ]
}